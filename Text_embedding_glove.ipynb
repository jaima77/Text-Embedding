{
  "nbformat": 4,
  "nbformat_minor": 0,
  "metadata": {
    "colab": {
      "name": "Text_embedding_glove.ipynb",
      "provenance": [],
      "collapsed_sections": []
    },
    "kernelspec": {
      "name": "python3",
      "display_name": "Python 3"
    },
    "language_info": {
      "name": "python"
    }
  },
  "cells": [
    {
      "cell_type": "code",
      "execution_count": null,
      "metadata": {
        "colab": {
          "base_uri": "https://localhost:8080/"
        },
        "id": "btRTYEKNi2il",
        "outputId": "6edfddb0-a2ae-4d32-d466-41ee9bde584d"
      },
      "outputs": [
        {
          "output_type": "stream",
          "name": "stdout",
          "text": [
            "                                          Tweet_english\n",
            "0     australia nears omicron peak as daily infectio...\n",
            "1     indias covid vaccination coverage crosses  crore \n",
            "2      covid delhi records  cases  deaths testing low  \n",
            "3     covid  west bengal registers  fresh cases amp ...\n",
            "4     corona is a unique virus as it has a very high...\n",
            "...                                                 ...\n",
            "2007  worldbank suspends funding of projects in afgh...\n",
            "2008  g leaders issued joint statement on afghanista...\n",
            "2009  weve helped evacuate  people from afghanistan ...\n",
            "2010  key face of antitaliban axis issues a warning ...\n",
            "2011  newsalert  taliban panel meets chinese envoy t...\n",
            "\n",
            "[2012 rows x 1 columns]\n",
            "2012\n",
            "df_sample Created\n"
          ]
        }
      ],
      "source": [
        "import pandas as pd\n",
        "\n",
        "from sklearn.feature_extraction.text import CountVectorizer\n",
        "from sklearn.feature_extraction.text import TfidfVectorizer\n",
        "data = pd.read_csv('/content/drive/MyDrive/news_tweets_cleaned_2.csv',encoding='latin1')\n",
        "selected_columns = data[[\"Tweet_english\"]]\n",
        "#df_full=data['Tweet_english']\n",
        "df = selected_columns.copy()\n",
        "df.drop(df[df['Tweet_english'].str.startswith('RT')].index,inplace = True)\n",
        "#df=data['Text']\n",
        "#print (f'Document: {df.iloc[0]}')\n",
        "#df=df_full.head(105)\n",
        "print(df)\n",
        "tweet_list=list(df['Tweet_english'])\n",
        "print(len(tweet_list))\n",
        "print(\"df_sample Created\")"
      ]
    },
    {
      "cell_type": "code",
      "source": [
        "from sklearn.metrics.pairwise import cosine_similarity\n",
        "from numpy import around\n",
        "from sklearn.metrics.pairwise import euclidean_distances\n",
        "import numpy as np\n",
        "vectorizer=TfidfVectorizer(max_features=100)\n",
        "vectorizer.fit(df.Tweet_english)\n",
        "result=vectorizer.transform(df.Tweet_english)\n",
        "result=result.toarray()\n",
        "\n"
      ],
      "metadata": {
        "colab": {
          "base_uri": "https://localhost:8080/"
        },
        "id": "Ing-8wgujrbV",
        "outputId": "3f67ac3f-75cb-4643-a170-91e1045121e2"
      },
      "execution_count": null,
      "outputs": [
        {
          "output_type": "stream",
          "name": "stdout",
          "text": [
            "Type of df -  <class 'pandas.core.frame.DataFrame'>\n",
            "Type of Result -  <class 'numpy.ndarray'>\n",
            "Shape of df -  (2012, 1)\n",
            "Done\n",
            "Size of result -  (2012, 100)\n",
            "Size of pairwise similarities -  (2012, 2012)\n"
          ]
        }
      ]
    },
    {
      "cell_type": "code",
      "source": [
        "from keras.preprocessing.text import Tokenizer\n",
        "import gensim\n",
        "from keras.preprocessing.sequence import pad_sequences\n",
        "from nltk.tokenize import word_tokenize\n",
        "import nltk\n",
        "nltk.download('punkt')"
      ],
      "metadata": {
        "colab": {
          "base_uri": "https://localhost:8080/"
        },
        "id": "dAB5H-r6GZZj",
        "outputId": "ac9c2697-27c7-487f-b881-c90dc4e7c8f9"
      },
      "execution_count": null,
      "outputs": [
        {
          "output_type": "stream",
          "name": "stdout",
          "text": [
            "[nltk_data] Downloading package punkt to /root/nltk_data...\n",
            "[nltk_data]   Package punkt is already up-to-date!\n"
          ]
        },
        {
          "output_type": "execute_result",
          "data": {
            "text/plain": [
              "True"
            ]
          },
          "metadata": {},
          "execution_count": 31
        }
      ]
    },
    {
      "cell_type": "code",
      "source": [
        "tokenizer=Tokenizer()\n",
        "tokenizer.fit_on_texts(df.Tweet_english)\n",
        "tokenized_documents=tokenizer.texts_to_sequences(df.Tweet_english)\n",
        "tokenized_paded_documents=pad_sequences(tokenized_documents,maxlen=20,padding='post')\n",
        "vocab_size=len(tokenizer.word_index)+1\n",
        "print (tokenized_paded_documents[1])\n",
        "print(len(tokenized_paded_documents[1]))"
      ],
      "metadata": {
        "id": "PTamhtkros73",
        "colab": {
          "base_uri": "https://localhost:8080/"
        },
        "outputId": "7a733e15-d4ab-46b1-ef68-8c725610c1e3"
      },
      "execution_count": null,
      "outputs": [
        {
          "output_type": "stream",
          "name": "stdout",
          "text": [
            "[  58    9  296 1627 1226  816    0    0    0    0    0    0    0    0\n",
            "    0    0    0    0    0    0]\n",
            "20\n"
          ]
        }
      ]
    },
    {
      "cell_type": "code",
      "source": [
        "!wget http://nlp.stanford.edu/data/glove.6B.zip\n",
        "!unzip glove*.zip"
      ],
      "metadata": {
        "colab": {
          "base_uri": "https://localhost:8080/"
        },
        "id": "OSLcbw12UEXw",
        "outputId": "7fd6aca0-c268-4e3a-eb6b-18891df78e0b"
      },
      "execution_count": null,
      "outputs": [
        {
          "output_type": "stream",
          "name": "stdout",
          "text": [
            "--2022-01-23 03:35:43--  http://nlp.stanford.edu/data/glove.6B.zip\n",
            "Resolving nlp.stanford.edu (nlp.stanford.edu)... 171.64.67.140\n",
            "Connecting to nlp.stanford.edu (nlp.stanford.edu)|171.64.67.140|:80... connected.\n",
            "HTTP request sent, awaiting response... 302 Found\n",
            "Location: https://nlp.stanford.edu/data/glove.6B.zip [following]\n",
            "--2022-01-23 03:35:44--  https://nlp.stanford.edu/data/glove.6B.zip\n",
            "Connecting to nlp.stanford.edu (nlp.stanford.edu)|171.64.67.140|:443... connected.\n",
            "HTTP request sent, awaiting response... 301 Moved Permanently\n",
            "Location: http://downloads.cs.stanford.edu/nlp/data/glove.6B.zip [following]\n",
            "--2022-01-23 03:35:44--  http://downloads.cs.stanford.edu/nlp/data/glove.6B.zip\n",
            "Resolving downloads.cs.stanford.edu (downloads.cs.stanford.edu)... 171.64.64.22\n",
            "Connecting to downloads.cs.stanford.edu (downloads.cs.stanford.edu)|171.64.64.22|:80... connected.\n",
            "HTTP request sent, awaiting response... 200 OK\n",
            "Length: 862182613 (822M) [application/zip]\n",
            "Saving to: ‘glove.6B.zip.1’\n",
            "\n",
            "glove.6B.zip.1       39%[======>             ] 323.33M  4.90MB/s    eta 1m 51s ^C\n",
            "Archive:  glove.6B.zip\n",
            "replace glove.6B.50d.txt? [y]es, [n]o, [A]ll, [N]one, [r]ename: "
          ]
        }
      ]
    },
    {
      "cell_type": "code",
      "source": [
        "embeddings_index = dict()\n",
        "\n",
        "with open('glove.6B.100d.txt') as file:\n",
        "    for line in file:\n",
        "        values = line.split()\n",
        "        word = values[0]\n",
        "        coefs = np.asarray(values[1:], dtype='float32')\n",
        "        embeddings_index[word] = coefs\n",
        "    "
      ],
      "metadata": {
        "id": "Y7fT_Pt0Tj1m"
      },
      "execution_count": null,
      "outputs": []
    },
    {
      "cell_type": "code",
      "source": [
        "embedding_matrix_glove=np.zeros((vocab_size,100))\n",
        "\n",
        "for word,i in tokenizer.word_index.items():\n",
        "    embedding_vector_glove = embeddings_index.get(word)\n",
        "    if embedding_vector_glove is not None:\n",
        "        embedding_matrix_glove[i] = embedding_vector_glove"
      ],
      "metadata": {
        "id": "THxCNHbgV9gE"
      },
      "execution_count": null,
      "outputs": []
    },
    {
      "cell_type": "code",
      "source": [
        "document_embeddings_glove=np.zeros((len(tokenized_paded_documents),100))\n",
        "words=vectorizer.get_feature_names()\n",
        "\n",
        "for i in range(df.shape[0]):\n",
        "    for j in range(len(words)):\n",
        "        document_embeddings_glove[i]+=embedding_matrix_glove[tokenizer.word_index[words[j]]]*result[i][j]\n",
        "        \n",
        "document_embeddings_glove=document_embeddings_glove/np.sum(result,axis=1).reshape(-1,1)"
      ],
      "metadata": {
        "colab": {
          "base_uri": "https://localhost:8080/"
        },
        "id": "BfdyL5nJWQ8K",
        "outputId": "ec0387db-0534-4fb3-c056-13e711a21efe"
      },
      "execution_count": null,
      "outputs": [
        {
          "output_type": "stream",
          "name": "stderr",
          "text": [
            "/usr/local/lib/python3.7/dist-packages/sklearn/utils/deprecation.py:87: FutureWarning: Function get_feature_names is deprecated; get_feature_names is deprecated in 1.0 and will be removed in 1.2. Please use get_feature_names_out instead.\n",
            "  warnings.warn(msg, category=FutureWarning)\n"
          ]
        }
      ]
    },
    {
      "cell_type": "code",
      "source": [
        "document_embeddings_glove.shape"
      ],
      "metadata": {
        "colab": {
          "base_uri": "https://localhost:8080/"
        },
        "id": "QbSOcAleWxIJ",
        "outputId": "dcc8cf5b-d1c8-4922-df29-9665aadd0e44"
      },
      "execution_count": null,
      "outputs": [
        {
          "output_type": "execute_result",
          "data": {
            "text/plain": [
              "(2012, 100)"
            ]
          },
          "metadata": {},
          "execution_count": 36
        }
      ]
    },
    {
      "cell_type": "code",
      "source": [
        "print(np.any(np.isnan(document_embeddings_glove)))\n",
        "document_embeddings_glove = np.nan_to_num(document_embeddings_glove)\n",
        "print(np.any(np.isnan(document_embeddings_glove)))"
      ],
      "metadata": {
        "colab": {
          "base_uri": "https://localhost:8080/"
        },
        "id": "W1z7JVbqiYA7",
        "outputId": "b7515146-7962-46e2-932e-a9c7a9e20573"
      },
      "execution_count": null,
      "outputs": [
        {
          "output_type": "stream",
          "name": "stdout",
          "text": [
            "False\n",
            "False\n"
          ]
        }
      ]
    },
    {
      "cell_type": "code",
      "source": [
        "import numpy as np\n",
        "import pandas as pd\n",
        "import matplotlib.pyplot as plt\n",
        "from sklearn.cluster import KMeans\n",
        "from sklearn.decomposition import PCA\n",
        "wcss = []\n",
        "pca = PCA(2)\n",
        "data = pca.fit_transform(document_embeddings_glove)\n",
        "for i in range(1,5):\n",
        "   model = KMeans(n_clusters = i, init = \"k-means++\")\n",
        "   #model.fit(document_embeddings_glove)\n",
        "   model.fit(data)\n",
        "   wcss.append(model.inertia_)\n",
        "plt.figure(figsize=(10,10))\n",
        "plt.plot(range(1,5), wcss)\n",
        "plt.xlabel('Number of clusters')\n",
        "plt.ylabel('WCSS')\n",
        "plt.show()"
      ],
      "metadata": {
        "colab": {
          "base_uri": "https://localhost:8080/",
          "height": 606
        },
        "id": "WNWpsdOnQTOB",
        "outputId": "d5c38d77-a364-4232-888e-b76079805b23"
      },
      "execution_count": null,
      "outputs": [
        {
          "output_type": "display_data",
          "data": {
            "image/png": "[encoded data removed]",
            "text/plain": [
              "<Figure size 720x720 with 1 Axes>"
            ]
          },
          "metadata": {
            "needs_background": "light"
          }
        }
      ]
    },
    {
      "cell_type": "code",
      "source": [
        "pca = PCA(2)\n",
        "data = pca.fit_transform(document_embeddings_glove)"
      ],
      "metadata": {
        "id": "HJe5KGGVTPJj"
      },
      "execution_count": null,
      "outputs": []
    },
    {
      "cell_type": "code",
      "source": [
        "centers = np.array(model.cluster_centers_)\n",
        "model = KMeans(n_clusters = 2, init = \"k-means++\")\n",
        "label = model.fit_predict(data)\n",
        "#print(label)\n",
        "plt.figure(figsize=(10,10))\n",
        "uniq = np.unique(label)\n",
        "for i in uniq:\n",
        "   plt.scatter(data[label == i , 0] , data[label == i , 1] , label = i)\n",
        "plt.scatter(centers[:,0], centers[:,1], marker=\"x\", color='k')\n",
        "#This is done to find the centroid for each clusters.\n",
        "plt.legend()\n",
        "plt.show()"
      ],
      "metadata": {
        "colab": {
          "base_uri": "https://localhost:8080/",
          "height": 592
        },
        "id": "UmEktjLZTTst",
        "outputId": "435ad204-800e-4e03-8f92-65afb79ec7b9"
      },
      "execution_count": null,
      "outputs": [
        {
          "output_type": "display_data",
          "data": {
            "image/png": "[encoded data removed]",
            "text/plain": [
              "<Figure size 720x720 with 1 Axes>"
            ]
          },
          "metadata": {
            "needs_background": "light"
          }
        }
      ]
    },
    {
      "cell_type": "code",
      "source": [
        "from sklearn.metrics import silhouette_score\n",
        "from sklearn.metrics import davies_bouldin_score\n",
        "score = silhouette_score(data, label)\n",
        "print(\"silhouette score is {})\".format(round(score,2)))\n",
        "print(\"DB Score: %0.3f\"\n",
        "      % davies_bouldin_score(data, label))"
      ],
      "metadata": {
        "colab": {
          "base_uri": "https://localhost:8080/"
        },
        "id": "wZF9Gqn2mqkU",
        "outputId": "b750bb26-7f00-4518-d309-8822a9341b7a"
      },
      "execution_count": null,
      "outputs": [
        {
          "output_type": "stream",
          "name": "stdout",
          "text": [
            "silhouette score is 0.39)\n",
            "DB Score: 1.073\n"
          ]
        }
      ]
    },
    {
      "cell_type": "code",
      "source": [
        "cluster_df=pd.DataFrame(list(zip(tweet_list, label)),\n",
        "              columns=['Tweet','Cluster'])\n",
        "cluster_df.to_csv(\"tweet_cluster_glove.csv\")"
      ],
      "metadata": {
        "id": "HWPTtNYLSYX5"
      },
      "execution_count": null,
      "outputs": []
    }
  ]
}