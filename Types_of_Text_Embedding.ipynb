{
  "nbformat": 4,
  "nbformat_minor": 0,
  "metadata": {
    "colab": {
      "name": "Types of Text Embedding.ipynb",
      "provenance": [],
      "collapsed_sections": []
    },
    "kernelspec": {
      "name": "python3",
      "display_name": "Python 3"
    },
    "language_info": {
      "name": "python"
    }
  },
  "cells": [
    {
      "cell_type": "code",
      "execution_count": null,
      "metadata": {
        "colab": {
          "base_uri": "https://localhost:8080/"
        },
        "id": "btRTYEKNi2il",
        "outputId": "82e76989-5f0e-45ba-b952-b75834daf95f"
      },
      "outputs": [
        {
          "output_type": "execute_result",
          "data": {
            "text/plain": [
              "0                 Raj like Mango\n",
              "1         Raj do not like cheese\n",
              "2    She does not like to go out\n",
              "Name: Text, dtype: object"
            ]
          },
          "metadata": {},
          "execution_count": 1
        }
      ],
      "source": [
        "import pandas as pd\n",
        "\n",
        "from sklearn.feature_extraction.text import CountVectorizer\n",
        "from sklearn.feature_extraction.text import TfidfVectorizer\n",
        "data = pd.read_csv('/content/drive/MyDrive/sample.csv',encoding='latin1')\n",
        "df=data['Text']\n",
        "df.head()"
      ]
    },
    {
      "cell_type": "code",
      "source": [
        "vectorizer=TfidfVectorizer()\n",
        "result=vectorizer.fit_transform(df)\n",
        "print(result)\n",
        "print(len(vectorizer.get_feature_names()))"
      ],
      "metadata": {
        "colab": {
          "base_uri": "https://localhost:8080/"
        },
        "id": "Ing-8wgujrbV",
        "outputId": "1447b8c4-32cb-45e8-cc7b-db114c2f76df"
      },
      "execution_count": null,
      "outputs": [
        {
          "output_type": "stream",
          "name": "stdout",
          "text": [
            "  (0, 5)\t0.7203334490549893\n",
            "  (0, 4)\t0.4254405389711991\n",
            "  (0, 8)\t0.5478321549274363\n",
            "  (1, 0)\t0.5340933749435833\n",
            "  (1, 6)\t0.4061917781433946\n",
            "  (1, 1)\t0.5340933749435833\n",
            "  (1, 4)\t0.3154441510317797\n",
            "  (1, 8)\t0.4061917781433946\n",
            "  (2, 7)\t0.4107468350088512\n",
            "  (2, 3)\t0.4107468350088512\n",
            "  (2, 10)\t0.4107468350088512\n",
            "  (2, 2)\t0.4107468350088512\n",
            "  (2, 9)\t0.4107468350088512\n",
            "  (2, 6)\t0.31238355521006117\n",
            "  (2, 4)\t0.24259369753845733\n",
            "11\n"
          ]
        },
        {
          "output_type": "stream",
          "name": "stderr",
          "text": [
            "/usr/local/lib/python3.7/dist-packages/sklearn/utils/deprecation.py:87: FutureWarning: Function get_feature_names is deprecated; get_feature_names is deprecated in 1.0 and will be removed in 1.2. Please use get_feature_names_out instead.\n",
            "  warnings.warn(msg, category=FutureWarning)\n"
          ]
        }
      ]
    },
    {
      "cell_type": "code",
      "source": [
        "print(\"tf-idf vectorizer\")\n",
        "print(\"-----------------\")\n",
        "#print(result.shape)\n",
        "#print(\"Sentence 1\")\n",
        "#print(round(result[0],2))\n",
        "#print(\"Sentence 2\")\n",
        "#print(round(result[1],2))\n",
        "#print(\"Sentence 3\")\n",
        "#print(round(result[2],2))\n",
        "print(\"Features\")\n",
        "print(vectorizer.get_feature_names())\n",
        "print(\"tf-idf Values\")\n",
        "print(vectorizer.idf_)\n",
        "for i in range(df.shape[0]):\n",
        "    print(\"Document \", i)\n",
        "    print(result[i].toarray())"
      ],
      "metadata": {
        "colab": {
          "base_uri": "https://localhost:8080/"
        },
        "id": "Cb0hO2QBjvUE",
        "outputId": "3445fe91-dd44-4d01-f996-655ff56dcd1e"
      },
      "execution_count": null,
      "outputs": [
        {
          "output_type": "stream",
          "name": "stdout",
          "text": [
            "tf-idf vectorizer\n",
            "-----------------\n",
            "Features\n",
            "['cheese', 'do', 'does', 'go', 'like', 'mango', 'not', 'out', 'raj', 'she', 'to']\n",
            "tf-idf Values\n",
            "[1.69314718 1.69314718 1.69314718 1.69314718 1.         1.69314718\n",
            " 1.28768207 1.69314718 1.28768207 1.69314718 1.69314718]\n",
            "Document  0\n",
            "[[0.         0.         0.         0.         0.42544054 0.72033345\n",
            "  0.         0.         0.54783215 0.         0.        ]]\n",
            "Document  1\n",
            "[[0.53409337 0.53409337 0.         0.         0.31544415 0.\n",
            "  0.40619178 0.         0.40619178 0.         0.        ]]\n",
            "Document  2\n",
            "[[0.         0.         0.41074684 0.41074684 0.2425937  0.\n",
            "  0.31238356 0.41074684 0.         0.41074684 0.41074684]]\n"
          ]
        },
        {
          "output_type": "stream",
          "name": "stderr",
          "text": [
            "/usr/local/lib/python3.7/dist-packages/sklearn/utils/deprecation.py:87: FutureWarning: Function get_feature_names is deprecated; get_feature_names is deprecated in 1.0 and will be removed in 1.2. Please use get_feature_names_out instead.\n",
            "  warnings.warn(msg, category=FutureWarning)\n"
          ]
        }
      ]
    },
    {
      "cell_type": "code",
      "source": [
        "print(\"BoW Vectorizer\")\n",
        "print(\"--------------\")\n",
        "c_vectorizer=CountVectorizer()\n",
        "c_result=c_vectorizer.fit_transform(df)\n",
        "print(\"Features\")\n",
        "#print(c_vectorizer.vocabulary_)\n",
        "print(c_vectorizer.get_feature_names())\n",
        "for i in range(df.shape[0]):\n",
        "    print(\"Document \", i)\n",
        "    print(c_result[i].toarray())"
      ],
      "metadata": {
        "colab": {
          "base_uri": "https://localhost:8080/"
        },
        "id": "U_5RJB6sjz3s",
        "outputId": "7fb74f4b-d4d1-49d7-87d1-629b77e9ce54"
      },
      "execution_count": null,
      "outputs": [
        {
          "output_type": "stream",
          "name": "stdout",
          "text": [
            "BoW Vectorizer\n",
            "--------------\n",
            "Features\n",
            "['cheese', 'do', 'does', 'go', 'like', 'mango', 'not', 'out', 'ram', 'she', 'to']\n",
            "Document  0\n",
            "[[0 0 0 0 1 1 0 0 1 0 0]]\n",
            "Document  1\n",
            "[[1 1 0 0 1 0 1 0 1 0 0]]\n",
            "Document  2\n",
            "[[0 0 1 1 1 0 1 1 0 1 1]]\n"
          ]
        },
        {
          "output_type": "stream",
          "name": "stderr",
          "text": [
            "/usr/local/lib/python3.7/dist-packages/sklearn/utils/deprecation.py:87: FutureWarning: Function get_feature_names is deprecated; get_feature_names is deprecated in 1.0 and will be removed in 1.2. Please use get_feature_names_out instead.\n",
            "  warnings.warn(msg, category=FutureWarning)\n"
          ]
        }
      ]
    },
    {
      "cell_type": "code",
      "source": [
        "print(\"One-Hot Encoding\")\n",
        "print(\"----------------\")\n",
        "words=c_vectorizer.get_feature_names()\n",
        "print(words)\n",
        "ohe_list=[]\n",
        "list1=list(df)\n",
        "print(list1)\n",
        "for document in list1:\n",
        "    for word in document.split():\n",
        "        temp=[0]*len(words)\n",
        "        word=word.lower()\n",
        "        if word in words:\n",
        "            temp[words.index(word)]=1\n",
        "            \n",
        "            ohe_list.append(temp)\n",
        "print(ohe_list)\n",
        "print(len(ohe_list))"
      ],
      "metadata": {
        "colab": {
          "base_uri": "https://localhost:8080/"
        },
        "id": "ZxRu-EWKj3S8",
        "outputId": "fc721788-3b4b-43f5-9ffa-76aa0eaa19a3"
      },
      "execution_count": null,
      "outputs": [
        {
          "output_type": "stream",
          "name": "stdout",
          "text": [
            "One-Hot Encoding\n",
            "----------------\n",
            "['cheese', 'do', 'does', 'go', 'like', 'mango', 'not', 'out', 'ram', 'she', 'to']\n",
            "['Ram like mango', 'Ram do not like cheese', 'She does not like to go out']\n",
            "[[0, 0, 0, 0, 0, 0, 0, 0, 1, 0, 0], [0, 0, 0, 0, 1, 0, 0, 0, 0, 0, 0], [0, 0, 0, 0, 0, 1, 0, 0, 0, 0, 0], [0, 0, 0, 0, 0, 0, 0, 0, 1, 0, 0], [0, 1, 0, 0, 0, 0, 0, 0, 0, 0, 0], [0, 0, 0, 0, 0, 0, 1, 0, 0, 0, 0], [0, 0, 0, 0, 1, 0, 0, 0, 0, 0, 0], [1, 0, 0, 0, 0, 0, 0, 0, 0, 0, 0], [0, 0, 0, 0, 0, 0, 0, 0, 0, 1, 0], [0, 0, 1, 0, 0, 0, 0, 0, 0, 0, 0], [0, 0, 0, 0, 0, 0, 1, 0, 0, 0, 0], [0, 0, 0, 0, 1, 0, 0, 0, 0, 0, 0], [0, 0, 0, 0, 0, 0, 0, 0, 0, 0, 1], [0, 0, 0, 1, 0, 0, 0, 0, 0, 0, 0], [0, 0, 0, 0, 0, 0, 0, 1, 0, 0, 0]]\n",
            "15\n"
          ]
        },
        {
          "output_type": "stream",
          "name": "stderr",
          "text": [
            "/usr/local/lib/python3.7/dist-packages/sklearn/utils/deprecation.py:87: FutureWarning: Function get_feature_names is deprecated; get_feature_names is deprecated in 1.0 and will be removed in 1.2. Please use get_feature_names_out instead.\n",
            "  warnings.warn(msg, category=FutureWarning)\n"
          ]
        }
      ]
    },
    {
      "cell_type": "code",
      "source": [
        "print(\"n-gram model\")\n",
        "print(\"------------\")\n",
        "ngram_vectorizer=CountVectorizer(ngram_range=(2,2))\n",
        "ngram_result=ngram_vectorizer.fit_transform(df)\n",
        "print(\"Features\")\n",
        "print(ngram_vectorizer.get_feature_names())\n",
        "for i in range(df.shape[0]):\n",
        "    print(\"Document \", i)\n",
        "    print(ngram_result[i].toarray())"
      ],
      "metadata": {
        "colab": {
          "base_uri": "https://localhost:8080/"
        },
        "id": "PFmFPrNGj72x",
        "outputId": "193c482e-5a4c-4b60-fd81-f11cb98147f6"
      },
      "execution_count": null,
      "outputs": [
        {
          "output_type": "stream",
          "name": "stdout",
          "text": [
            "n-gram model\n",
            "------------\n",
            "Features\n",
            "['do not', 'does not', 'go out', 'like cheese', 'like mango', 'like to', 'not like', 'ram do', 'ram like', 'she does', 'to go']\n",
            "Document  0\n",
            "[[0 0 0 0 1 0 0 0 1 0 0]]\n",
            "Document  1\n",
            "[[1 0 0 1 0 0 1 1 0 0 0]]\n",
            "Document  2\n",
            "[[0 1 1 0 0 1 1 0 0 1 1]]\n"
          ]
        },
        {
          "output_type": "stream",
          "name": "stderr",
          "text": [
            "/usr/local/lib/python3.7/dist-packages/sklearn/utils/deprecation.py:87: FutureWarning: Function get_feature_names is deprecated; get_feature_names is deprecated in 1.0 and will be removed in 1.2. Please use get_feature_names_out instead.\n",
            "  warnings.warn(msg, category=FutureWarning)\n"
          ]
        }
      ]
    }
  ]
}